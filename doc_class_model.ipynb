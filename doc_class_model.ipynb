{
 "cells": [
  {
   "cell_type": "code",
   "execution_count": 2,
   "id": "cde476d9",
   "metadata": {},
   "outputs": [],
   "source": [
    "from tensorflow.keras.models import Sequential\n",
    "from tensorflow.keras.layers import Dense, Embedding, MaxPooling1D, Conv1D, GlobalMaxPooling1D, Dropout\n",
    "from tensorflow.keras import utils\n",
    "from tensorflow.keras.preprocessing.sequence import pad_sequences\n",
    "from tensorflow.keras.preprocessing.text import Tokenizer\n",
    "from tensorflow.keras.callbacks import ModelCheckpoint\n",
    "import pandas as pd\n",
    "import numpy as np\n",
    "import matplotlib.pyplot as plt\n",
    "%matplotlib inline "
   ]
  },
  {
   "cell_type": "code",
   "execution_count": 3,
   "id": "944eaa76",
   "metadata": {
    "scrolled": true
   },
   "outputs": [],
   "source": [
    "train = pd.read_excel('razmetka_new.xlsx')"
   ]
  },
  {
   "cell_type": "code",
   "execution_count": 3,
   "id": "6b436ff5",
   "metadata": {},
   "outputs": [
    {
     "name": "stdout",
     "output_type": "stream",
     "text": [
      "39\n"
     ]
    }
   ],
   "source": [
    "descriptions = train['text']\n",
    "categories = train[u'cat']\n",
    "\n",
    "max_words = 0\n",
    "for desc in descriptions:\n",
    "    words = len(desc.split())\n",
    "    if words > max_words:\n",
    "        max_words = words\n",
    "print(max_words)"
   ]
  },
  {
   "cell_type": "code",
   "execution_count": 4,
   "id": "808a5fb6",
   "metadata": {},
   "outputs": [],
   "source": [
    "num_words = 275\n",
    "max_review_len = 40"
   ]
  },
  {
   "cell_type": "code",
   "execution_count": 5,
   "id": "f56d7887",
   "metadata": {},
   "outputs": [],
   "source": [
    "text = train['text']\n",
    "y_train = train['cat']"
   ]
  },
  {
   "cell_type": "code",
   "execution_count": 6,
   "id": "77b0052e",
   "metadata": {},
   "outputs": [],
   "source": [
    "tokenizer = Tokenizer(num_words=num_words)"
   ]
  },
  {
   "cell_type": "code",
   "execution_count": 7,
   "id": "575bc808",
   "metadata": {},
   "outputs": [],
   "source": [
    "tokenizer.fit_on_texts(text)"
   ]
  },
  {
   "cell_type": "code",
   "execution_count": 8,
   "id": "68bd386e",
   "metadata": {},
   "outputs": [],
   "source": [
    "sequences = tokenizer.texts_to_sequences(text)"
   ]
  },
  {
   "cell_type": "code",
   "execution_count": 9,
   "id": "5fd6a651",
   "metadata": {},
   "outputs": [
    {
     "name": "stdout",
     "output_type": "stream",
     "text": [
      "272\n"
     ]
    }
   ],
   "source": [
    "total_words = len(tokenizer.word_index)\n",
    "print(total_words)"
   ]
  },
  {
   "cell_type": "code",
   "execution_count": 10,
   "id": "c676c3fc",
   "metadata": {},
   "outputs": [],
   "source": [
    "x_train = pad_sequences(sequences, maxlen=max_review_len)"
   ]
  },
  {
   "cell_type": "code",
   "execution_count": 11,
   "id": "c32cd4ec",
   "metadata": {},
   "outputs": [],
   "source": [
    "model = Sequential()\n",
    "model.add(Embedding(num_words, 128, input_length=max_review_len))\n",
    "model.add(Conv1D(300, 8, padding='valid', activation='relu'))\n",
    "model.add(GlobalMaxPooling1D())\n",
    "model.add(Dense(128, activation='relu'))\n",
    "model.add(Dropout(0.2))\n",
    "model.add(Dense(1, activation='sigmoid'))"
   ]
  },
  {
   "cell_type": "code",
   "execution_count": 12,
   "id": "930f4655",
   "metadata": {},
   "outputs": [],
   "source": [
    "model.compile(optimizer='adam', \n",
    "              loss='binary_crossentropy', \n",
    "              metrics=['accuracy'])"
   ]
  },
  {
   "cell_type": "code",
   "execution_count": 13,
   "id": "534c1c7b",
   "metadata": {},
   "outputs": [],
   "source": [
    "model_save_path = 'best_model.h5'\n",
    "checkpoint_callback = ModelCheckpoint(model_save_path,\n",
    "                                     monitor='val_accuracy',\n",
    "                                     save_best_only=True,\n",
    "                                     verbose=1)"
   ]
  },
  {
   "cell_type": "code",
   "execution_count": 14,
   "id": "ad2f9bc5",
   "metadata": {},
   "outputs": [
    {
     "name": "stdout",
     "output_type": "stream",
     "text": [
      "Epoch 1/6\n",
      "1/1 [==============================] - ETA: 0s - loss: 0.6936 - accuracy: 0.6053\n",
      "Epoch 1: val_accuracy improved from -inf to 0.40000, saving model to best_model.h5\n",
      "1/1 [==============================] - 1s 1s/step - loss: 0.6936 - accuracy: 0.6053 - val_loss: 0.7017 - val_accuracy: 0.4000\n",
      "Epoch 2/6\n",
      "1/1 [==============================] - ETA: 0s - loss: 0.6613 - accuracy: 0.8947\n",
      "Epoch 2: val_accuracy improved from 0.40000 to 0.60000, saving model to best_model.h5\n",
      "1/1 [==============================] - 0s 200ms/step - loss: 0.6613 - accuracy: 0.8947 - val_loss: 0.6940 - val_accuracy: 0.6000\n",
      "Epoch 3/6\n",
      "1/1 [==============================] - ETA: 0s - loss: 0.6261 - accuracy: 0.9474\n",
      "Epoch 3: val_accuracy improved from 0.60000 to 0.80000, saving model to best_model.h5\n",
      "1/1 [==============================] - 0s 185ms/step - loss: 0.6261 - accuracy: 0.9474 - val_loss: 0.6769 - val_accuracy: 0.8000\n",
      "Epoch 4/6\n",
      "1/1 [==============================] - ETA: 0s - loss: 0.5977 - accuracy: 0.9737\n",
      "Epoch 4: val_accuracy improved from 0.80000 to 1.00000, saving model to best_model.h5\n",
      "1/1 [==============================] - 0s 196ms/step - loss: 0.5977 - accuracy: 0.9737 - val_loss: 0.6579 - val_accuracy: 1.0000\n",
      "Epoch 5/6\n",
      "1/1 [==============================] - ETA: 0s - loss: 0.5621 - accuracy: 0.9737\n",
      "Epoch 5: val_accuracy did not improve from 1.00000\n",
      "1/1 [==============================] - 0s 81ms/step - loss: 0.5621 - accuracy: 0.9737 - val_loss: 0.6415 - val_accuracy: 1.0000\n",
      "Epoch 6/6\n",
      "1/1 [==============================] - ETA: 0s - loss: 0.5204 - accuracy: 1.0000\n",
      "Epoch 6: val_accuracy did not improve from 1.00000\n",
      "1/1 [==============================] - 0s 74ms/step - loss: 0.5204 - accuracy: 1.0000 - val_loss: 0.6249 - val_accuracy: 1.0000\n"
     ]
    }
   ],
   "source": [
    "history = model.fit(x_train, \n",
    "                    y_train, \n",
    "                    epochs=6,\n",
    "                    batch_size=128,\n",
    "                    validation_split=0.1,\n",
    "                   callbacks=[checkpoint_callback])"
   ]
  },
  {
   "cell_type": "code",
   "execution_count": 15,
   "id": "0f91448b",
   "metadata": {},
   "outputs": [],
   "source": [
    "model.load_weights(model_save_path)"
   ]
  }
 ],
 "metadata": {
  "kernelspec": {
   "display_name": "Python 3 (ipykernel)",
   "language": "python",
   "name": "python3"
  },
  "language_info": {
   "codemirror_mode": {
    "name": "ipython",
    "version": 3
   },
   "file_extension": ".py",
   "mimetype": "text/x-python",
   "name": "python",
   "nbconvert_exporter": "python",
   "pygments_lexer": "ipython3",
   "version": "3.9.12"
  }
 },
 "nbformat": 4,
 "nbformat_minor": 5
}
