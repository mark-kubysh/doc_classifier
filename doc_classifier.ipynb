{
 "cells": [
  {
   "cell_type": "code",
   "execution_count": 1,
   "id": "d90ce9a6",
   "metadata": {},
   "outputs": [],
   "source": [
    "from tensorflow import keras\n",
    "from tensorflow.keras.preprocessing.sequence import pad_sequences"
   ]
  },
  {
   "cell_type": "code",
   "execution_count": 2,
   "id": "1316855f",
   "metadata": {},
   "outputs": [],
   "source": [
    "import pandas as pd\n",
    "import pickle\n",
    "import docx\n",
    "import tkinter as tk\n",
    "from tkinter import filedialog"
   ]
  },
  {
   "cell_type": "code",
   "execution_count": 3,
   "id": "ffe06748",
   "metadata": {},
   "outputs": [],
   "source": [
    "# Загрузка модели из файла .h5\n",
    "model = keras.models.load_model(r'C://Users//user//Desktop//vtb_test//best_model.h5')"
   ]
  },
  {
   "cell_type": "code",
   "execution_count": 4,
   "id": "7f24bc5a",
   "metadata": {},
   "outputs": [],
   "source": [
    "with open('tokenizer.pickle', 'rb') as handle:\n",
    "    tokenizer = pickle.load(handle)"
   ]
  },
  {
   "cell_type": "code",
   "execution_count": 5,
   "id": "a3bc99df",
   "metadata": {},
   "outputs": [],
   "source": [
    "max_review_len = 40"
   ]
  },
  {
   "cell_type": "code",
   "execution_count": 17,
   "id": "43940b71",
   "metadata": {},
   "outputs": [],
   "source": [
    "def class_text_tf(text_docx):\n",
    "    sequence = tokenizer.texts_to_sequences([text_docx])\n",
    "    data = pad_sequences(sequence, maxlen=max_review_len)\n",
    "    result = model.predict(data)\n",
    "    return result"
   ]
  },
  {
   "cell_type": "code",
   "execution_count": null,
   "id": "a4b04436",
   "metadata": {},
   "outputs": [],
   "source": [
    "root = tk.Tk()\n",
    "root.withdraw()\n",
    "\n",
    "file_paths = filedialog.askopenfilenames(filetypes=[(\"Word Documents\", \"*.docx\")])\n",
    "\n",
    "if file_paths:\n",
    "    for file_path in file_paths:\n",
    "        doc = docx.Document(file_path)\n",
    "        \n",
    "        s1 = pd.DataFrame(columns=['text']) \n",
    "        for i in range(len(doc.paragraphs)):\n",
    "            s1 = pd.concat([s1, pd.DataFrame([doc.paragraphs[i].text])], ignore_index=True)\n",
    "        df_ph = pd.DataFrame(s1['text'])\n",
    "        assigments_table = pd.DataFrame(columns=['assigments_text', 'block_number'])\n",
    "        list_assigments = df_ph.query('text == \"Решения:\" or text == \"Результаты:\"').index.tolist()\n",
    "        number_of_ranges = len(list_assigments)/2\n",
    "        number_of_ranges = int(number_of_ranges)\n",
    "\n",
    "        right_border = [i for i in range(0,len(list_assigments)) if i % 2 != 0]\n",
    "        left_border = [i for i in range(0,len(list_assigments)) if i % 2 == 0]\n",
    "        for j in range (number_of_ranges):\n",
    "            for i in range(list_assigments[left_border [j]]+1 , list_assigments [right_border [j]]-1):\n",
    "                if len(df_ph.text[i]) > 1 and df_ph.text[i] != '':\n",
    "                    assigments_table = assigments_table.append({'assigments_text': df_ph.text[i], 'block_number': range(number_of_ranges)[j]+1}, ignore_index=True)\n",
    "\n",
    "        solutions = assigments_table\n",
    "        solutions = solutions.assigments_text.to_frame()\n",
    "        solutions['text_type'] = ''\n",
    "\n",
    "        coef = []\n",
    "        text_type = []\n",
    "        for i in range (len(solutions.assigments_text)):\n",
    "            coef.append(class_text_tf(solutions.assigments_text[i]))\n",
    "        solutions['coef'] = coef\n",
    "\n",
    "        for i in range (len (reshenia.coef)):\n",
    "            if solutions.coef[i] < 0.5:\n",
    "                solutions.text_type[i] =\"документ_1\"\n",
    "            else:\n",
    "                solutions.text_type[i] =\"документ_2\"\n",
    "\n",
    "        result_table = solutions\n",
    "        result_table.to_excel('result_table.xlsx')\n",
    "\n",
    "        result_filename = file_path.replace(\".docx\", \"_result_table.xlsx\")\n",
    "        result_table.to_excel(result_filename)\n",
    "\n",
    "        print(f\"Создан файл: {result_filename}\")\n",
    "        \n",
    "        \n",
    "else:\n",
    "    print(\"Файлы не выбраны\")"
   ]
  }
 ],
 "metadata": {
  "kernelspec": {
   "display_name": "Python 3 (ipykernel)",
   "language": "python",
   "name": "python3"
  },
  "language_info": {
   "codemirror_mode": {
    "name": "ipython",
    "version": 3
   },
   "file_extension": ".py",
   "mimetype": "text/x-python",
   "name": "python",
   "nbconvert_exporter": "python",
   "pygments_lexer": "ipython3",
   "version": "3.9.12"
  }
 },
 "nbformat": 4,
 "nbformat_minor": 5
}
